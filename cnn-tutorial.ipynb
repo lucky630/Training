{
 "cells": [
  {
   "cell_type": "code",
   "execution_count": null,
   "metadata": {},
   "outputs": [],
   "source": []
  },
  {
   "cell_type": "code",
   "execution_count": 1,
   "metadata": {
    "_cell_guid": "b1076dfc-b9ad-4769-8c92-a6c4dae69d19",
    "_uuid": "8f2839f25d086af736a60e9eeb907d3b93b6e0e5"
   },
   "outputs": [],
   "source": [
    "# This Python 3 environment comes with many helpful analytics libraries installed\n",
    "# It is defined by the kaggle/python docker image: https://github.com/kaggle/docker-python\n",
    "# For example, here's several helpful packages to load in \n",
    "\n",
    "import numpy as np # linear algebra\n",
    "import pandas as pd # data processing, CSV file I/O (e.g. pd.read_csv)\n",
    "\n",
    "# Input data files are available in the \"../input/\" directory.\n",
    "# For example, running this (by clicking run or pressing Shift+Enter) will list all files under the input directory\n",
    "\n",
    "import os\n",
    "for dirname, _, filenames in os.walk('/kaggle/input'):\n",
    "    for filename in filenames:\n",
    "        print(os.path.join(dirname, filename))\n",
    "\n",
    "# Any results you write to the current directory are saved as output."
   ]
  },
  {
   "cell_type": "code",
   "execution_count": 2,
   "metadata": {
    "_cell_guid": "79c7e3d0-c299-4dcb-8224-4455121ee9b0",
    "_uuid": "d629ff2d2480ee46fbb7e2d37f6b5fab8052498a"
   },
   "outputs": [],
   "source": [
    "import tensorflow as tf\n",
    "from IPython.core.interactiveshell import InteractiveShell\n",
    "InteractiveShell.ast_node_interactivity = \"all\""
   ]
  },
  {
   "cell_type": "code",
   "execution_count": 3,
   "metadata": {},
   "outputs": [
    {
     "data": {
      "text/plain": [
       "True"
      ]
     },
     "execution_count": 3,
     "metadata": {},
     "output_type": "execute_result"
    }
   ],
   "source": [
    "tf.test.is_gpu_available()"
   ]
  },
  {
   "cell_type": "code",
   "execution_count": 4,
   "metadata": {},
   "outputs": [
    {
     "name": "stderr",
     "output_type": "stream",
     "text": [
      "Using TensorFlow backend.\n"
     ]
    }
   ],
   "source": [
    "# Baseline MLP for MNIST dataset\n",
    "from keras.datasets import mnist\n",
    "from keras.models import Sequential\n",
    "from keras.layers import Dense\n",
    "from keras.utils import np_utils"
   ]
  },
  {
   "cell_type": "code",
   "execution_count": 5,
   "metadata": {},
   "outputs": [
    {
     "name": "stdout",
     "output_type": "stream",
     "text": [
      "Downloading data from https://s3.amazonaws.com/img-datasets/mnist.npz\n",
      "11493376/11490434 [==============================] - 0s 0us/step\n"
     ]
    }
   ],
   "source": [
    "# load data\n",
    "(X_train, y_train), (X_test, y_test) = mnist.load_data()"
   ]
  },
  {
   "cell_type": "code",
   "execution_count": 6,
   "metadata": {},
   "outputs": [
    {
     "data": {
      "text/plain": [
       "array([5, 0, 4, ..., 5, 6, 8], dtype=uint8)"
      ]
     },
     "execution_count": 6,
     "metadata": {},
     "output_type": "execute_result"
    }
   ],
   "source": [
    "y_train"
   ]
  },
  {
   "cell_type": "code",
   "execution_count": 7,
   "metadata": {},
   "outputs": [
    {
     "data": {
      "text/plain": [
       "2"
      ]
     },
     "execution_count": 7,
     "metadata": {},
     "output_type": "execute_result"
    }
   ],
   "source": [
    "# X_test[1]\n",
    "y_test[1]"
   ]
  },
  {
   "cell_type": "code",
   "execution_count": 8,
   "metadata": {},
   "outputs": [
    {
     "data": {
      "text/plain": [
       "(10000, 28, 28)"
      ]
     },
     "execution_count": 8,
     "metadata": {},
     "output_type": "execute_result"
    }
   ],
   "source": [
    "X_test.shape"
   ]
  },
  {
   "cell_type": "code",
   "execution_count": 9,
   "metadata": {},
   "outputs": [
    {
     "data": {
      "image/png": "[encoded data removed]",
      "text/plain": [
       "<PIL.Image.Image image mode=L size=28x28 at 0x7F57011E6898>"
      ]
     },
     "execution_count": 9,
     "metadata": {},
     "output_type": "execute_result"
    },
    {
     "name": "stdout",
     "output_type": "stream",
     "text": [
      "5\n"
     ]
    }
   ],
   "source": [
    "from PIL import Image\n",
    "Image.fromarray(X_train[0])\n",
    "print(y_train[0])"
   ]
  },
  {
   "cell_type": "code",
   "execution_count": 10,
   "metadata": {},
   "outputs": [],
   "source": [
    "num_pixels = X_train.shape[1] * X_train.shape[2]"
   ]
  },
  {
   "cell_type": "code",
   "execution_count": 11,
   "metadata": {},
   "outputs": [
    {
     "data": {
      "text/plain": [
       "784"
      ]
     },
     "execution_count": 11,
     "metadata": {},
     "output_type": "execute_result"
    }
   ],
   "source": [
    "num_pixels"
   ]
  },
  {
   "cell_type": "code",
   "execution_count": 12,
   "metadata": {},
   "outputs": [],
   "source": [
    "X_train = X_train.reshape((X_train.shape[0], num_pixels)).astype('float32')\n",
    "X_test = X_test.reshape((X_test.shape[0], num_pixels)).astype('float32')"
   ]
  },
  {
   "cell_type": "code",
   "execution_count": 13,
   "metadata": {},
   "outputs": [
    {
     "data": {
      "text/plain": [
       "(60000, 784)"
      ]
     },
     "execution_count": 13,
     "metadata": {},
     "output_type": "execute_result"
    },
    {
     "data": {
      "text/plain": [
       "(60000,)"
      ]
     },
     "execution_count": 13,
     "metadata": {},
     "output_type": "execute_result"
    }
   ],
   "source": [
    "X_train.shape\n",
    "y_train.shape"
   ]
  },
  {
   "cell_type": "code",
   "execution_count": 14,
   "metadata": {},
   "outputs": [
    {
     "data": {
      "text/plain": [
       "array([5, 0, 4, ..., 5, 6, 8], dtype=uint8)"
      ]
     },
     "execution_count": 14,
     "metadata": {},
     "output_type": "execute_result"
    }
   ],
   "source": [
    "y_train"
   ]
  },
  {
   "cell_type": "code",
   "execution_count": 15,
   "metadata": {},
   "outputs": [],
   "source": [
    "X_train = X_train / 255\n",
    "X_test = X_test / 255"
   ]
  },
  {
   "cell_type": "code",
   "execution_count": 16,
   "metadata": {},
   "outputs": [],
   "source": [
    "y_train = np_utils.to_categorical(y_train)\n",
    "y_test = np_utils.to_categorical(y_test)\n",
    "num_classes = y_test.shape[1]"
   ]
  },
  {
   "cell_type": "code",
   "execution_count": 17,
   "metadata": {},
   "outputs": [
    {
     "data": {
      "text/plain": [
       "array([0., 0., 0., 0., 0., 1., 0., 0., 0., 0.], dtype=float32)"
      ]
     },
     "execution_count": 17,
     "metadata": {},
     "output_type": "execute_result"
    },
    {
     "data": {
      "text/plain": [
       "(60000, 10)"
      ]
     },
     "execution_count": 17,
     "metadata": {},
     "output_type": "execute_result"
    }
   ],
   "source": [
    "y_train[0]\n",
    "y_train.shape"
   ]
  },
  {
   "cell_type": "code",
   "execution_count": 18,
   "metadata": {},
   "outputs": [],
   "source": [
    "\n",
    "# flatten 28*28 images to a 784 vector for each image\n",
    "\n",
    "# normalize inputs from 0-255 to 0-1\n",
    "\n",
    "# one hot encode outputs\n",
    "\n",
    "# define baseline model\n"
   ]
  },
  {
   "cell_type": "code",
   "execution_count": 19,
   "metadata": {},
   "outputs": [],
   "source": [
    "def baseline_model():\n",
    "    # create model\n",
    "    model = Sequential()\n",
    "    model.add(Dense(784, input_dim=784, kernel_initializer='normal', activation='relu'))\n",
    "    model.add(Dense(10, kernel_initializer='normal', activation='softmax'))\n",
    "    # Compile model\n",
    "    model.compile(loss='categorical_crossentropy', optimizer='adam', metrics=['accuracy'])\n",
    "    return model"
   ]
  },
  {
   "cell_type": "code",
   "execution_count": 20,
   "metadata": {},
   "outputs": [
    {
     "name": "stdout",
     "output_type": "stream",
     "text": [
      "Train on 60000 samples, validate on 10000 samples\n",
      "Epoch 1/10\n",
      " - 2s - loss: 0.2797 - accuracy: 0.9205 - val_loss: 0.1368 - val_accuracy: 0.9577\n",
      "Epoch 2/10\n",
      " - 1s - loss: 0.1114 - accuracy: 0.9684 - val_loss: 0.0884 - val_accuracy: 0.9723\n",
      "Epoch 3/10\n",
      " - 1s - loss: 0.0709 - accuracy: 0.9792 - val_loss: 0.0834 - val_accuracy: 0.9742\n",
      "Epoch 4/10\n",
      " - 1s - loss: 0.0500 - accuracy: 0.9856 - val_loss: 0.0673 - val_accuracy: 0.9770\n",
      "Epoch 5/10\n",
      " - 1s - loss: 0.0357 - accuracy: 0.9904 - val_loss: 0.0672 - val_accuracy: 0.9771\n",
      "Epoch 6/10\n",
      " - 1s - loss: 0.0254 - accuracy: 0.9934 - val_loss: 0.0615 - val_accuracy: 0.9800\n",
      "Epoch 7/10\n",
      " - 1s - loss: 0.0196 - accuracy: 0.9950 - val_loss: 0.0643 - val_accuracy: 0.9789\n",
      "Epoch 8/10\n",
      " - 1s - loss: 0.0142 - accuracy: 0.9966 - val_loss: 0.0646 - val_accuracy: 0.9817\n",
      "Epoch 9/10\n",
      " - 1s - loss: 0.0110 - accuracy: 0.9977 - val_loss: 0.0633 - val_accuracy: 0.9809\n",
      "Epoch 10/10\n",
      " - 1s - loss: 0.0077 - accuracy: 0.9987 - val_loss: 0.0572 - val_accuracy: 0.9828\n"
     ]
    },
    {
     "data": {
      "text/plain": [
       "<keras.callbacks.callbacks.History at 0x7f5700ac0c88>"
      ]
     },
     "execution_count": 20,
     "metadata": {},
     "output_type": "execute_result"
    }
   ],
   "source": [
    "# build the model\n",
    "model = baseline_model()\n",
    "# Fit the model\n",
    "model.fit(X_train, y_train, validation_data=(X_test, y_test), epochs=10, batch_size=200, verbose=2)"
   ]
  },
  {
   "cell_type": "code",
   "execution_count": 21,
   "metadata": {},
   "outputs": [
    {
     "name": "stdout",
     "output_type": "stream",
     "text": [
      "Baseline Error: 1.72%\n"
     ]
    }
   ],
   "source": [
    "\n",
    "# Final evaluation of the model\n",
    "scores = model.evaluate(X_test, y_test, verbose=0)\n",
    "print(\"Baseline Error: %.2f%%\" % (100-scores[1]*100))"
   ]
  },
  {
   "cell_type": "code",
   "execution_count": 22,
   "metadata": {},
   "outputs": [],
   "source": [
    "preds = model.predict(X_test)"
   ]
  },
  {
   "cell_type": "code",
   "execution_count": 23,
   "metadata": {},
   "outputs": [
    {
     "data": {
      "text/plain": [
       "(10000, 10)"
      ]
     },
     "execution_count": 23,
     "metadata": {},
     "output_type": "execute_result"
    }
   ],
   "source": [
    "preds.shape"
   ]
  },
  {
   "cell_type": "code",
   "execution_count": 24,
   "metadata": {},
   "outputs": [],
   "source": [
    "int_preds = np.argmax(preds,axis=1)"
   ]
  },
  {
   "cell_type": "code",
   "execution_count": 25,
   "metadata": {},
   "outputs": [
    {
     "data": {
      "text/plain": [
       "array([7, 2, 1, ..., 4, 5, 6])"
      ]
     },
     "execution_count": 25,
     "metadata": {},
     "output_type": "execute_result"
    },
    {
     "data": {
      "text/plain": [
       "(10000,)"
      ]
     },
     "execution_count": 25,
     "metadata": {},
     "output_type": "execute_result"
    }
   ],
   "source": [
    "int_preds\n",
    "int_preds.shape"
   ]
  },
  {
   "cell_type": "code",
   "execution_count": 26,
   "metadata": {},
   "outputs": [],
   "source": [
    "actual = np.argmax(y_test,axis=1)"
   ]
  },
  {
   "cell_type": "code",
   "execution_count": 27,
   "metadata": {},
   "outputs": [
    {
     "data": {
      "text/plain": [
       "array([7, 2, 1, ..., 4, 5, 6])"
      ]
     },
     "execution_count": 27,
     "metadata": {},
     "output_type": "execute_result"
    }
   ],
   "source": [
    "actual"
   ]
  },
  {
   "cell_type": "code",
   "execution_count": 28,
   "metadata": {},
   "outputs": [
    {
     "name": "stdout",
     "output_type": "stream",
     "text": [
      "115\n",
      "149\n",
      "217\n",
      "247\n",
      "321\n",
      "340\n",
      "381\n",
      "445\n",
      "448\n",
      "449\n",
      "582\n",
      "619\n",
      "684\n",
      "691\n",
      "720\n",
      "900\n",
      "938\n",
      "947\n",
      "951\n",
      "956\n",
      "1014\n",
      "1039\n",
      "1112\n",
      "1182\n",
      "1226\n",
      "1232\n",
      "1242\n",
      "1247\n",
      "1299\n",
      "1319\n",
      "1328\n",
      "1393\n",
      "1522\n",
      "1530\n",
      "1549\n",
      "1553\n",
      "1609\n",
      "1681\n",
      "1790\n",
      "1800\n",
      "1878\n",
      "1901\n",
      "1941\n",
      "1982\n",
      "1984\n",
      "2004\n",
      "2044\n",
      "2053\n",
      "2070\n",
      "2098\n",
      "2109\n",
      "2118\n",
      "2129\n",
      "2130\n",
      "2135\n",
      "2182\n",
      "2185\n",
      "2224\n",
      "2272\n",
      "2293\n",
      "2369\n",
      "2387\n",
      "2406\n",
      "2414\n",
      "2488\n",
      "2607\n",
      "2618\n",
      "2648\n",
      "2654\n",
      "2720\n",
      "2863\n",
      "2877\n",
      "2896\n",
      "2915\n",
      "2921\n",
      "2939\n",
      "2953\n",
      "2995\n",
      "3030\n",
      "3062\n",
      "3073\n",
      "3117\n",
      "3503\n",
      "3520\n",
      "3558\n",
      "3559\n",
      "3597\n",
      "3681\n",
      "3702\n",
      "3727\n",
      "3751\n",
      "3780\n",
      "3818\n",
      "3838\n",
      "3853\n",
      "3893\n",
      "3906\n",
      "3941\n",
      "3943\n",
      "3985\n",
      "4065\n",
      "4078\n",
      "4140\n",
      "4176\n",
      "4199\n",
      "4201\n",
      "4224\n",
      "4248\n",
      "4289\n",
      "4419\n",
      "4425\n",
      "4497\n",
      "4504\n",
      "4536\n",
      "4635\n",
      "4639\n",
      "4740\n",
      "4761\n",
      "4807\n",
      "4808\n",
      "4823\n",
      "4838\n",
      "4860\n",
      "4880\n",
      "4956\n",
      "5078\n",
      "5140\n",
      "5331\n",
      "5457\n",
      "5634\n",
      "5642\n",
      "5676\n",
      "5734\n",
      "5749\n",
      "5936\n",
      "5955\n",
      "5973\n",
      "6023\n",
      "6059\n",
      "6166\n",
      "6173\n",
      "6571\n",
      "6574\n",
      "6597\n",
      "6625\n",
      "6651\n",
      "6783\n",
      "6847\n",
      "7216\n",
      "8094\n",
      "8311\n",
      "8325\n",
      "8522\n",
      "8527\n",
      "9009\n",
      "9015\n",
      "9024\n",
      "9280\n",
      "9587\n",
      "9634\n",
      "9664\n",
      "9679\n",
      "9700\n",
      "9729\n",
      "9745\n",
      "9768\n",
      "9770\n",
      "9779\n",
      "9792\n",
      "9793\n",
      "9808\n",
      "9839\n"
     ]
    }
   ],
   "source": [
    "count = 0\n",
    "wrong_count = 0\n",
    "for i,j in zip(actual,int_preds):\n",
    "    if i!=j:\n",
    "        wrong_count = wrong_count +1\n",
    "        print(count)\n",
    "    count=count+1"
   ]
  },
  {
   "cell_type": "code",
   "execution_count": 29,
   "metadata": {},
   "outputs": [
    {
     "data": {
      "text/plain": [
       "172"
      ]
     },
     "execution_count": 29,
     "metadata": {},
     "output_type": "execute_result"
    }
   ],
   "source": [
    "wrong_count"
   ]
  },
  {
   "cell_type": "code",
   "execution_count": 30,
   "metadata": {},
   "outputs": [],
   "source": [
    "(X_train, y_train), (X_test, y_test) = mnist.load_data()"
   ]
  },
  {
   "cell_type": "code",
   "execution_count": 31,
   "metadata": {},
   "outputs": [
    {
     "name": "stdout",
     "output_type": "stream",
     "text": [
      "Image : \n"
     ]
    },
    {
     "data": {
      "image/png": "[encoded data removed]",
      "text/plain": [
       "<PIL.Image.Image image mode=L size=28x28 at 0x7F57009F2588>"
      ]
     },
     "execution_count": 31,
     "metadata": {},
     "output_type": "execute_result"
    },
    {
     "name": "stdout",
     "output_type": "stream",
     "text": [
      "actual : \n",
      "6\n",
      "prediction : \n",
      "5\n"
     ]
    }
   ],
   "source": [
    "from PIL import Image\n",
    "print('Image : ')\n",
    "Image.fromarray(X_test[217])\n",
    "print('actual : ')\n",
    "print(y_test[217])\n",
    "print('prediction : ')\n",
    "print(int_preds[217])"
   ]
  },
  {
   "cell_type": "code",
   "execution_count": null,
   "metadata": {},
   "outputs": [],
   "source": []
  },
  {
   "cell_type": "code",
   "execution_count": 32,
   "metadata": {},
   "outputs": [],
   "source": [
    "from keras.datasets import mnist\n",
    "from keras.models import Sequential\n",
    "from keras.layers import Dense\n",
    "from keras.layers import Dropout\n",
    "from keras.layers import Flatten\n",
    "from keras.layers.convolutional import Conv2D\n",
    "from keras.layers.convolutional import MaxPooling2D\n",
    "from keras.utils import np_utils"
   ]
  },
  {
   "cell_type": "code",
   "execution_count": 33,
   "metadata": {},
   "outputs": [],
   "source": [
    "(X_train, y_train), (X_test, y_test) = mnist.load_data()"
   ]
  },
  {
   "cell_type": "code",
   "execution_count": 34,
   "metadata": {},
   "outputs": [
    {
     "data": {
      "text/plain": [
       "(60000, 28, 28)"
      ]
     },
     "execution_count": 34,
     "metadata": {},
     "output_type": "execute_result"
    }
   ],
   "source": [
    "X_train.shape"
   ]
  },
  {
   "cell_type": "code",
   "execution_count": 35,
   "metadata": {},
   "outputs": [],
   "source": [
    "X_train = X_train.reshape((X_train.shape[0], 28, 28, 1)).astype('float32')\n",
    "X_test = X_test.reshape((X_test.shape[0], 28, 28, 1)).astype('float32')"
   ]
  },
  {
   "cell_type": "code",
   "execution_count": 36,
   "metadata": {},
   "outputs": [
    {
     "data": {
      "text/plain": [
       "(60000, 28, 28, 1)"
      ]
     },
     "execution_count": 36,
     "metadata": {},
     "output_type": "execute_result"
    }
   ],
   "source": [
    "X_train.shape"
   ]
  },
  {
   "cell_type": "code",
   "execution_count": 37,
   "metadata": {},
   "outputs": [],
   "source": [
    "X_train = X_train / 255\n",
    "X_test = X_test / 255"
   ]
  },
  {
   "cell_type": "code",
   "execution_count": 38,
   "metadata": {},
   "outputs": [],
   "source": [
    "y_train = np_utils.to_categorical(y_train)\n",
    "y_test = np_utils.to_categorical(y_test)\n",
    "num_classes = y_test.shape[1]"
   ]
  },
  {
   "cell_type": "code",
   "execution_count": 39,
   "metadata": {},
   "outputs": [],
   "source": [
    "# define a simple CNN model\n",
    "def baseline_model():\n",
    "    # create model\n",
    "    model = Sequential()\n",
    "    model.add(Conv2D(32, (5, 5), input_shape=(28, 28, 1), activation='relu'))\n",
    "    model.add(MaxPooling2D())\n",
    "    model.add(Dropout(0.2))\n",
    "    model.add(Flatten())\n",
    "    model.add(Dense(128, activation='relu'))\n",
    "    model.add(Dense(num_classes, activation='softmax'))\n",
    "    # Compile model\n",
    "    model.compile(loss='categorical_crossentropy', optimizer='adam', metrics=['accuracy'])\n",
    "    return model"
   ]
  },
  {
   "cell_type": "code",
   "execution_count": 40,
   "metadata": {},
   "outputs": [],
   "source": [
    "model = baseline_model()"
   ]
  },
  {
   "cell_type": "code",
   "execution_count": 41,
   "metadata": {},
   "outputs": [
    {
     "name": "stdout",
     "output_type": "stream",
     "text": [
      "Model: \"sequential_2\"\n",
      "_________________________________________________________________\n",
      "Layer (type)                 Output Shape              Param #   \n",
      "=================================================================\n",
      "conv2d_1 (Conv2D)            (None, 24, 24, 32)        832       \n",
      "_________________________________________________________________\n",
      "max_pooling2d_1 (MaxPooling2 (None, 12, 12, 32)        0         \n",
      "_________________________________________________________________\n",
      "dropout_1 (Dropout)          (None, 12, 12, 32)        0         \n",
      "_________________________________________________________________\n",
      "flatten_1 (Flatten)          (None, 4608)              0         \n",
      "_________________________________________________________________\n",
      "dense_3 (Dense)              (None, 128)               589952    \n",
      "_________________________________________________________________\n",
      "dense_4 (Dense)              (None, 10)                1290      \n",
      "=================================================================\n",
      "Total params: 592,074\n",
      "Trainable params: 592,074\n",
      "Non-trainable params: 0\n",
      "_________________________________________________________________\n"
     ]
    }
   ],
   "source": [
    "model.summary()"
   ]
  },
  {
   "cell_type": "code",
   "execution_count": 42,
   "metadata": {},
   "outputs": [
    {
     "name": "stdout",
     "output_type": "stream",
     "text": [
      "Train on 60000 samples, validate on 10000 samples\n",
      "Epoch 1/10\n",
      "60000/60000 [==============================] - 4s 69us/step - loss: 0.2468 - accuracy: 0.9315 - val_loss: 0.0737 - val_accuracy: 0.9787\n",
      "Epoch 2/10\n",
      "60000/60000 [==============================] - 1s 24us/step - loss: 0.0707 - accuracy: 0.9793 - val_loss: 0.0496 - val_accuracy: 0.9835\n",
      "Epoch 3/10\n",
      "60000/60000 [==============================] - 1s 24us/step - loss: 0.0512 - accuracy: 0.9847 - val_loss: 0.0411 - val_accuracy: 0.9859\n",
      "Epoch 4/10\n",
      "60000/60000 [==============================] - 1s 25us/step - loss: 0.0406 - accuracy: 0.9873 - val_loss: 0.0365 - val_accuracy: 0.9879\n",
      "Epoch 5/10\n",
      "60000/60000 [==============================] - 1s 24us/step - loss: 0.0327 - accuracy: 0.9899 - val_loss: 0.0382 - val_accuracy: 0.9873\n",
      "Epoch 6/10\n",
      "60000/60000 [==============================] - 1s 24us/step - loss: 0.0276 - accuracy: 0.9907 - val_loss: 0.0368 - val_accuracy: 0.9876\n",
      "Epoch 7/10\n",
      "60000/60000 [==============================] - 1s 25us/step - loss: 0.0222 - accuracy: 0.9928 - val_loss: 0.0320 - val_accuracy: 0.9900\n",
      "Epoch 8/10\n",
      "60000/60000 [==============================] - 1s 24us/step - loss: 0.0181 - accuracy: 0.9943 - val_loss: 0.0347 - val_accuracy: 0.9889\n",
      "Epoch 9/10\n",
      "60000/60000 [==============================] - 2s 25us/step - loss: 0.0160 - accuracy: 0.9948 - val_loss: 0.0340 - val_accuracy: 0.9881\n",
      "Epoch 10/10\n",
      "60000/60000 [==============================] - 1s 24us/step - loss: 0.0131 - accuracy: 0.9959 - val_loss: 0.0322 - val_accuracy: 0.9893\n"
     ]
    },
    {
     "data": {
      "text/plain": [
       "<keras.callbacks.callbacks.History at 0x7f5700886fd0>"
      ]
     },
     "execution_count": 42,
     "metadata": {},
     "output_type": "execute_result"
    },
    {
     "name": "stdout",
     "output_type": "stream",
     "text": [
      "CNN Error: 1.07%\n"
     ]
    }
   ],
   "source": [
    "\n",
    "\n",
    "# build the model\n",
    "\n",
    "# Fit the model\n",
    "model.fit(X_train, y_train, validation_data=(X_test, y_test), epochs=10, batch_size=200)\n",
    "# Final evaluation of the model\n",
    "scores = model.evaluate(X_test, y_test, verbose=0)\n",
    "print(\"CNN Error: %.2f%%\" % (100-scores[1]*100))"
   ]
  },
  {
   "cell_type": "code",
   "execution_count": 43,
   "metadata": {},
   "outputs": [],
   "source": [
    "preds = model.predict(X_test)"
   ]
  },
  {
   "cell_type": "code",
   "execution_count": 44,
   "metadata": {},
   "outputs": [
    {
     "data": {
      "text/plain": [
       "array([[1.5627656e-10, 6.1304434e-10, 4.0966452e-09, ..., 9.9999774e-01,\n",
       "        1.0654316e-09, 4.4941132e-07],\n",
       "       [9.5650488e-11, 1.6885637e-07, 9.9999988e-01, ..., 1.4417987e-13,\n",
       "        2.5917305e-11, 1.4248801e-15],\n",
       "       [1.6665363e-07, 9.9998307e-01, 1.7015212e-08, ..., 8.7565813e-06,\n",
       "        1.3559282e-06, 2.0440035e-08],\n",
       "       ...,\n",
       "       [1.0510908e-13, 3.2259345e-11, 1.9472134e-14, ..., 9.4780868e-09,\n",
       "        1.7341439e-08, 8.9178648e-08],\n",
       "       [1.1823388e-11, 7.2200747e-13, 5.2373623e-14, ..., 2.3122901e-11,\n",
       "        7.1507397e-06, 2.3651825e-12],\n",
       "       [2.2605992e-11, 9.3523000e-15, 3.3747782e-11, ..., 1.3592094e-16,\n",
       "        3.0982321e-09, 2.1394616e-13]], dtype=float32)"
      ]
     },
     "execution_count": 44,
     "metadata": {},
     "output_type": "execute_result"
    },
    {
     "data": {
      "text/plain": [
       "(10000, 10)"
      ]
     },
     "execution_count": 44,
     "metadata": {},
     "output_type": "execute_result"
    }
   ],
   "source": [
    "preds\n",
    "preds.shape"
   ]
  },
  {
   "cell_type": "code",
   "execution_count": 45,
   "metadata": {},
   "outputs": [],
   "source": [
    "int_preds = np.argmax(preds,axis=1)"
   ]
  },
  {
   "cell_type": "code",
   "execution_count": 46,
   "metadata": {},
   "outputs": [
    {
     "data": {
      "text/plain": [
       "array([7, 2, 1, ..., 4, 5, 6])"
      ]
     },
     "execution_count": 46,
     "metadata": {},
     "output_type": "execute_result"
    }
   ],
   "source": [
    "int_preds"
   ]
  },
  {
   "cell_type": "code",
   "execution_count": 47,
   "metadata": {},
   "outputs": [],
   "source": [
    "actual = np.argmax(y_test,axis=1)"
   ]
  },
  {
   "cell_type": "code",
   "execution_count": 48,
   "metadata": {},
   "outputs": [
    {
     "data": {
      "text/plain": [
       "array([7, 2, 1, ..., 4, 5, 6])"
      ]
     },
     "execution_count": 48,
     "metadata": {},
     "output_type": "execute_result"
    }
   ],
   "source": [
    "actual"
   ]
  },
  {
   "cell_type": "code",
   "execution_count": 49,
   "metadata": {},
   "outputs": [
    {
     "name": "stdout",
     "output_type": "stream",
     "text": [
      "18\n",
      "115\n",
      "247\n",
      "321\n",
      "340\n",
      "445\n",
      "582\n",
      "659\n",
      "717\n",
      "813\n",
      "839\n",
      "883\n",
      "924\n",
      "947\n",
      "1014\n",
      "1039\n",
      "1044\n",
      "1112\n",
      "1156\n",
      "1226\n",
      "1232\n",
      "1242\n",
      "1247\n",
      "1260\n",
      "1319\n",
      "1393\n",
      "1522\n",
      "1527\n",
      "1530\n",
      "1553\n",
      "1554\n",
      "1609\n",
      "1621\n",
      "1678\n",
      "1709\n",
      "1790\n",
      "1901\n",
      "2035\n",
      "2070\n",
      "2118\n",
      "2129\n",
      "2130\n",
      "2135\n",
      "2280\n",
      "2329\n",
      "2488\n",
      "2597\n",
      "2654\n",
      "2896\n",
      "2921\n",
      "2939\n",
      "2953\n",
      "2995\n",
      "3073\n",
      "3422\n",
      "3451\n",
      "3520\n",
      "3534\n",
      "3559\n",
      "3597\n",
      "3662\n",
      "3727\n",
      "3808\n",
      "3906\n",
      "4065\n",
      "4078\n",
      "4176\n",
      "4224\n",
      "4248\n",
      "4497\n",
      "4507\n",
      "4571\n",
      "4740\n",
      "4761\n",
      "4807\n",
      "4860\n",
      "5331\n",
      "5937\n",
      "5955\n",
      "5973\n",
      "5997\n",
      "6071\n",
      "6091\n",
      "6166\n",
      "6173\n",
      "6532\n",
      "6555\n",
      "6560\n",
      "6571\n",
      "6576\n",
      "6597\n",
      "6625\n",
      "6651\n",
      "6783\n",
      "8094\n",
      "8325\n",
      "8527\n",
      "9009\n",
      "9015\n",
      "9540\n",
      "9587\n",
      "9634\n",
      "9664\n",
      "9698\n",
      "9729\n",
      "9792\n",
      "9839\n"
     ]
    }
   ],
   "source": [
    "count = 0\n",
    "wrong_count = 0\n",
    "for i,j in zip(actual,int_preds):\n",
    "    if i!=j:\n",
    "        wrong_count = wrong_count +1\n",
    "        print(count)\n",
    "    count=count+1"
   ]
  },
  {
   "cell_type": "code",
   "execution_count": 50,
   "metadata": {},
   "outputs": [
    {
     "data": {
      "text/plain": [
       "107"
      ]
     },
     "execution_count": 50,
     "metadata": {},
     "output_type": "execute_result"
    }
   ],
   "source": [
    "wrong_count"
   ]
  },
  {
   "cell_type": "code",
   "execution_count": 51,
   "metadata": {},
   "outputs": [],
   "source": [
    "(X_train, y_train), (X_test, y_test) = mnist.load_data()"
   ]
  },
  {
   "cell_type": "code",
   "execution_count": 52,
   "metadata": {},
   "outputs": [
    {
     "name": "stdout",
     "output_type": "stream",
     "text": [
      "Image : \n"
     ]
    },
    {
     "data": {
      "image/png": "[encoded data removed]",
      "text/plain": [
       "<PIL.Image.Image image mode=L size=28x28 at 0x7F57007A2550>"
      ]
     },
     "execution_count": 52,
     "metadata": {},
     "output_type": "execute_result"
    },
    {
     "name": "stdout",
     "output_type": "stream",
     "text": [
      "actual : \n",
      "4\n",
      "prediction : \n",
      "6\n"
     ]
    }
   ],
   "source": [
    "from PIL import Image\n",
    "print('Image : ')\n",
    "Image.fromarray(X_test[247])\n",
    "print('actual : ')\n",
    "print(y_test[247])\n",
    "print('prediction : ')\n",
    "print(int_preds[247])"
   ]
  },
  {
   "cell_type": "code",
   "execution_count": null,
   "metadata": {},
   "outputs": [],
   "source": []
  }
 ],
 "metadata": {
  "kernelspec": {
   "display_name": "Python 3",
   "language": "python",
   "name": "python3"
  },
  "language_info": {
   "codemirror_mode": {
    "name": "ipython",
    "version": 3
   },
   "file_extension": ".py",
   "mimetype": "text/x-python",
   "name": "python",
   "nbconvert_exporter": "python",
   "pygments_lexer": "ipython3",
   "version": "3.6.6"
  }
 },
 "nbformat": 4,
 "nbformat_minor": 1
}
